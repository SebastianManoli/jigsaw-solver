{
 "cells": [
  {
   "cell_type": "code",
   "execution_count": 2,
   "id": "34e4d78a",
   "metadata": {},
   "outputs": [],
   "source": [
    "import os\n",
    "from os.path import join\n",
    "import numpy as np\n",
    "import cv2\n",
    "import matplotlib.pyplot as plt"
   ]
  },
  {
   "cell_type": "code",
   "execution_count": 4,
   "id": "f25e760a",
   "metadata": {},
   "outputs": [
    {
     "data": {
      "text/plain": [
       "['IMG_4635.JPG',\n",
       " 'IMG_4636.JPG',\n",
       " 'IMG_4637.JPG',\n",
       " 'IMG_4638.JPG',\n",
       " 'IMG_4639.JPG',\n",
       " 'IMG_4640.JPG',\n",
       " 'IMG_4641.JPG',\n",
       " 'IMG_4642.JPG',\n",
       " 'IMG_4643.JPG',\n",
       " 'IMG_4644.JPG',\n",
       " 'IMG_4645.JPG',\n",
       " 'IMG_4646.JPG',\n",
       " 'IMG_4647.JPG',\n",
       " 'IMG_4648.JPG',\n",
       " 'IMG_4649.JPG',\n",
       " 'IMG_4650.JPG',\n",
       " 'IMG_4651.JPG',\n",
       " 'IMG_4652.JPG',\n",
       " 'IMG_4653.JPG',\n",
       " 'IMG_4654.JPG',\n",
       " 'IMG_4655.JPG',\n",
       " 'IMG_4656.JPG',\n",
       " 'IMG_4657.JPG',\n",
       " 'IMG_4658.JPG',\n",
       " 'IMG_4659.JPG',\n",
       " 'IMG_4660.JPG',\n",
       " 'IMG_4661.JPG',\n",
       " 'IMG_4662.JPG',\n",
       " 'IMG_4663.JPG',\n",
       " 'IMG_4664.JPG',\n",
       " 'IMG_4665.JPG',\n",
       " 'IMG_4666.JPG',\n",
       " 'IMG_4667.JPG',\n",
       " 'IMG_4668.JPG',\n",
       " 'IMG_4669.JPG',\n",
       " 'IMG_4670.JPG',\n",
       " 'IMG_4671.JPG',\n",
       " 'IMG_4672.JPG',\n",
       " 'IMG_4673.JPG',\n",
       " 'IMG_4674.JPG',\n",
       " 'IMG_4675.JPG',\n",
       " 'IMG_4676.JPG']"
      ]
     },
     "execution_count": 4,
     "metadata": {},
     "output_type": "execute_result"
    }
   ],
   "source": [
    "jigsaw_1 = os.listdir('Dataset/Jigsaw_1')\n",
    "jigsaw_1"
   ]
  }
 ],
 "metadata": {
  "kernelspec": {
   "display_name": ".venv",
   "language": "python",
   "name": "python3"
  },
  "language_info": {
   "codemirror_mode": {
    "name": "ipython",
    "version": 3
   },
   "file_extension": ".py",
   "mimetype": "text/x-python",
   "name": "python",
   "nbconvert_exporter": "python",
   "pygments_lexer": "ipython3",
   "version": "3.11.3"
  }
 },
 "nbformat": 4,
 "nbformat_minor": 5
}
